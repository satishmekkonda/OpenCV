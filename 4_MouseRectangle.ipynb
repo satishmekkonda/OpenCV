{
 "cells": [
  {
   "cell_type": "code",
   "execution_count": 2,
   "metadata": {},
   "outputs": [
    {
     "ename": "SyntaxError",
     "evalue": "invalid syntax (<ipython-input-2-edf3e14eba24>, line 33)",
     "output_type": "error",
     "traceback": [
      "\u001b[1;36m  File \u001b[1;32m\"<ipython-input-2-edf3e14eba24>\"\u001b[1;36m, line \u001b[1;32m33\u001b[0m\n\u001b[1;33m    cv2.rectangle(img, (ix, iy), (x,y), (0,255,0), -1))\u001b[0m\n\u001b[1;37m                                                      ^\u001b[0m\n\u001b[1;31mSyntaxError\u001b[0m\u001b[1;31m:\u001b[0m invalid syntax\n"
     ]
    }
   ],
   "source": [
    "import numpy as np\n",
    "import cv2\n",
    "\n",
    "\n",
    "################\n",
    "##VARIABLES##\n",
    "################\n",
    "\n",
    "#true while mouse button down, False while mouse button up\n",
    "drawing = False\n",
    "ix, iy =  -1, -1\n",
    "\n",
    "################\n",
    "##FUNCTION##\n",
    "################\n",
    "\n",
    "def draw_rectangle(event, x, y, flags, params):\n",
    "    \n",
    "    global ix, iy, drawing\n",
    "    \n",
    "    if event == cv2.EVENT_LBUTTONDOWN:\n",
    "        \n",
    "        drawing = True\n",
    "        ix, iy = x, y\n",
    "        \n",
    "    elif event == cv2.EVENT_MOUSEMOVE:\n",
    "        \n",
    "        if drawing == True:\n",
    "            cv2.rectangle(img, (ix, iy), (x,y), (0,255,0), -1)\n",
    "            \n",
    "    elif event == cv2.EVENT_LBUTTONUP:\n",
    "        drawing = False\n",
    "        cv2.rectangle(img, (ix, iy), (x,y), (0,255,0), -1))\n",
    "        \n",
    "\n",
    "\n",
    "################\n",
    "#DISPLAY IMAGE#\n",
    "################\n",
    "\n",
    "img = np.zeros(shape=(512,512,3))\n",
    "\n",
    "cv2.namedWindow(winname = 'my_drawing')\n",
    "\n",
    "cv2.setMouseCallback('my_drwaing', draw_rectangle)\n",
    "\n",
    "while True:\n",
    "    \n",
    "    cv2.imshow('my_drawing', img)\n",
    "    \n",
    "    if cv2.waitKey(1) &0xFF == 27:\n",
    "        break\n",
    "        \n",
    "cv2.destroyAllWindows()\n"
   ]
  },
  {
   "cell_type": "code",
   "execution_count": null,
   "metadata": {},
   "outputs": [],
   "source": []
  }
 ],
 "metadata": {
  "kernelspec": {
   "display_name": "Python 3",
   "language": "python",
   "name": "python3"
  },
  "language_info": {
   "codemirror_mode": {
    "name": "ipython",
    "version": 3
   },
   "file_extension": ".py",
   "mimetype": "text/x-python",
   "name": "python",
   "nbconvert_exporter": "python",
   "pygments_lexer": "ipython3",
   "version": "3.7.3"
  }
 },
 "nbformat": 4,
 "nbformat_minor": 4
}
