{
 "cells": [
  {
   "cell_type": "markdown",
   "metadata": {},
   "source": [
    "## TRACKING API's"
   ]
  },
  {
   "cell_type": "code",
   "execution_count": 1,
   "metadata": {},
   "outputs": [],
   "source": [
    "import cv2"
   ]
  },
  {
   "cell_type": "code",
   "execution_count": 2,
   "metadata": {},
   "outputs": [],
   "source": [
    "def ask_for_tracker():\n",
    "    print('Welcome! WHat tracker would you like to use?')\n",
    "    print('Enter 0 for Boosting: ')\n",
    "    print('Enter 1 for MIL: ')\n",
    "    print('Enter 2 for KCF: ')\n",
    "    print('Enter 3 for TLD: ')\n",
    "    print('Enter 4 for MedianFlow: ')\n",
    "    \n",
    "    choice = input('Please select your tracker')\n",
    "    \n",
    "    if choice == '0':\n",
    "        tracker = cv2.TrackerBoosting_create()\n",
    "        \n",
    "    if choice == '1':\n",
    "        tracker = cv2.TrackerMIL_create()\n",
    "        \n",
    "    if choice == '2':\n",
    "        tracker = cv2.TrackerKCF_create()\n",
    "        \n",
    "    if choice == '3':\n",
    "        tracker = cv2.TrackerTLD_create()\n",
    "        \n",
    "    if choice == '4':\n",
    "        tracker = cv2.TrackerMedianFlow_create()\n",
    "        \n",
    "        \n",
    "        \n",
    "    return tracker       "
   ]
  },
  {
   "cell_type": "code",
   "execution_count": null,
   "metadata": {},
   "outputs": [],
   "source": [
    "tracker = ask_for_tracker()"
   ]
  },
  {
   "cell_type": "code",
   "execution_count": null,
   "metadata": {},
   "outputs": [],
   "source": [
    "tracker"
   ]
  },
  {
   "cell_type": "code",
   "execution_count": null,
   "metadata": {},
   "outputs": [],
   "source": [
    "str(tracker).split()[0][1:]"
   ]
  },
  {
   "cell_type": "code",
   "execution_count": null,
   "metadata": {},
   "outputs": [],
   "source": [
    "tracker = ask_for_tracker()\n",
    "tracker_name = str(tracker).split()[0][1:]\n",
    "\n",
    "#ReadVideo\n",
    "cap = cv2.VideoCapture(0)\n",
    "\n",
    "#Read First Frame \n",
    "ret, frame = cap.read()\n",
    "\n",
    "\n",
    "## Special Function allows us to draw on the very first frame of our desired ROI\n",
    "roi = cv2.selectROI(frame, False)\n",
    "\n",
    "## Initialize tracker with first frame and bounding box\n",
    "ret = tracker.init(frame, roi)\n",
    "\n",
    "while True:\n",
    "    #Read a new Frame\n",
    "    ret, frame = cap.read()\n",
    "    \n",
    "    #update tracker\n",
    "    success, roi = tracker.update(frame)\n",
    "    \n",
    "    #roi variable is a tuple of 4 floats\n",
    "    #we need each value and we need them as integers\n",
    "    (x, y, w, h) = tuple(map(int, roi))\n",
    "    \n",
    "    #Draw Rectangle as Tracker moves\n",
    "    if success:\n",
    "        #Tracking Success\n",
    "        p1 = (x, y)\n",
    "        p2 = (x+w, y+h)\n",
    "        cv2.rectangle(frame, p1, p2, (0, 255, 0), 3)\n",
    "        \n",
    "    else:\n",
    "        #Tracking Failure\n",
    "        cv2.putText(frame, 'Failed to Detect Tracking', (100, 200), cv2.FONT_HERSHEY_SIMPLEX, 1, (0, 255, 0), 3)\n",
    "        \n",
    "        \n",
    "    #Displat Tracker Type on Frame\n",
    "    cv2.putText(frame, tracker_name, (20, 400), cv2.FONT_HERSHEY_SIMPLEX, 1, (0, 255, 0), 3)\n",
    "    \n",
    "    #Display Result\n",
    "    cv2.imshow(tracker_name, frame)\n",
    "    \n",
    "    #Exit if ESC Pressed\n",
    "    k = cv2.waitKey(1) & 0xFF\n",
    "    if k == 27:\n",
    "        break\n",
    "        \n",
    "cap.release()\n",
    "cv2.destroyAllWindows()    "
   ]
  },
  {
   "cell_type": "code",
   "execution_count": null,
   "metadata": {},
   "outputs": [],
   "source": []
  }
 ],
 "metadata": {
  "kernelspec": {
   "display_name": "Python 3",
   "language": "python",
   "name": "python3"
  },
  "language_info": {
   "codemirror_mode": {
    "name": "ipython",
    "version": 3
   },
   "file_extension": ".py",
   "mimetype": "text/x-python",
   "name": "python",
   "nbconvert_exporter": "python",
   "pygments_lexer": "ipython3",
   "version": "3.7.3"
  }
 },
 "nbformat": 4,
 "nbformat_minor": 4
}
